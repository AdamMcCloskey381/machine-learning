{
  "nbformat": 4,
  "nbformat_minor": 0,
  "metadata": {
    "colab": {
      "name": "Untitled1.ipynb",
      "provenance": [],
      "authorship_tag": "ABX9TyMrb/1SRec9N75iNAGztWUP",
      "include_colab_link": true
    },
    "kernelspec": {
      "name": "python3",
      "display_name": "Python 3"
    },
    "language_info": {
      "name": "python"
    }
  },
  "cells": [
    {
      "cell_type": "markdown",
      "metadata": {
        "id": "view-in-github",
        "colab_type": "text"
      },
      "source": [
        "<a href=\"https://colab.research.google.com/github/AdamMcCloskey381/machine-learning/blob/main/Perceptron_bank.ipynb\" target=\"_parent\"><img src=\"https://colab.research.google.com/assets/colab-badge.svg\" alt=\"Open In Colab\"/></a>"
      ]
    },
    {
      "cell_type": "code",
      "execution_count": 71,
      "metadata": {
        "id": "EWuoxxH7TUXz"
      },
      "outputs": [],
      "source": [
        "import pandas as pd\n",
        "import numpy as np\n",
        "from sklearn.preprocessing import LabelEncoder, OneHotEncoder, StandardScaler"
      ]
    },
    {
      "cell_type": "code",
      "source": [
        "df = pd.read_csv(r\"/content/bank-additional-full.csv\", delimiter = ';')\n",
        "df_raw = df.copy()\n",
        "\n",
        "import matplotlib.pyplot as plt\n",
        "plt.hist(df['pdays'])\n",
        "df = df.loc[:, df.columns !='pdays']\n",
        "df.replace('unknown', np.nan)\n",
        "\n",
        "pd.set_option('display.max_columns', None)"
      ],
      "metadata": {
        "colab": {
          "base_uri": "https://localhost:8080/",
          "height": 265
        },
        "id": "LEvi9VbbTikm",
        "outputId": "c06eb6a5-f3ba-4329-e3e1-c63d684cd06c"
      },
      "execution_count": 78,
      "outputs": [
        {
          "output_type": "display_data",
          "data": {
            "text/plain": [
              "<Figure size 432x288 with 1 Axes>"
            ],
            "image/png": "[encoded data removed]"
          },
          "metadata": {
            "needs_background": "light"
          }
        }
      ]
    },
    {
      "cell_type": "code",
      "source": [
        "df_category = ['job', 'marital', 'education', 'default', 'housing', 'loan', 'contact', 'month', 'day_of_week',\n",
        "            'poutcome', 'y']\n",
        "df_numerical = df.columns.tolist()\n",
        "  \n",
        "for col in df_category:\n",
        "            df[col] = df[col].astype('category')\n",
        "\n",
        "for i in range(len(df_category)):\n",
        "  df_numerical.remove(df_category[i])\n",
        "\n",
        "for col in df_numerical:\n",
        "  df[col] = df[col].astype('float64')"
      ],
      "metadata": {
        "id": "AdcQWKEjUBkf"
      },
      "execution_count": 79,
      "outputs": []
    },
    {
      "cell_type": "code",
      "source": [
        "le = LabelEncoder()\n",
        "scaler = StandardScaler()"
      ],
      "metadata": {
        "id": "rqQVX4kJV-zr"
      },
      "execution_count": 80,
      "outputs": []
    },
    {
      "cell_type": "code",
      "source": [
        "df_ordinal = ['education']\n",
        "df_category.remove(df_ordinal[0])"
      ],
      "metadata": {
        "id": "lXEm5ML7RETj"
      },
      "execution_count": 81,
      "outputs": []
    },
    {
      "cell_type": "code",
      "source": [
        "df[df_ordinal[0]] = le.fit_transform(df[df_ordinal[0]])\n",
        "df = pd.get_dummies(df, drop_first = True, columns = df_category)\n",
        "for col in df_numerical:\n",
        "  df[[col]] = scaler.fit_transform(df[[col]])"
      ],
      "metadata": {
        "id": "_msq3DWoRVfP"
      },
      "execution_count": 83,
      "outputs": []
    },
    {
      "cell_type": "code",
      "source": [
        "from sklearn.linear_model import Perceptron\n",
        "pnp = Perceptron()"
      ],
      "metadata": {
        "id": "45yYie8mW_RY"
      },
      "execution_count": 100,
      "outputs": []
    },
    {
      "cell_type": "code",
      "source": [
        "x = df.loc[:, df.columns != 'y_yes']\n",
        "y = df.loc[:, df.columns == 'y_yes']\n",
        "from sklearn.model_selection import train_test_split\n",
        "x_train, x_test, y_train, y_test = train_test_split(x, y, test_size = 0.7, random_state = 1)"
      ],
      "metadata": {
        "id": "j41s8da3XEgj"
      },
      "execution_count": 108,
      "outputs": []
    },
    {
      "cell_type": "code",
      "source": [
        "y_train = np.ravel(y_train)\n",
        "pnp.fit(x_train, y_train)"
      ],
      "metadata": {
        "colab": {
          "base_uri": "https://localhost:8080/"
        },
        "id": "NG656XTuXY7A",
        "outputId": "fe85395a-3803-4a04-d89b-ef19f6e0da35"
      },
      "execution_count": 110,
      "outputs": [
        {
          "output_type": "execute_result",
          "data": {
            "text/plain": [
              "Perceptron()"
            ]
          },
          "metadata": {},
          "execution_count": 110
        }
      ]
    },
    {
      "cell_type": "code",
      "source": [
        "from sklearn.metrics import accuracy_score\n",
        "score = accuracy_score(y_test, pnp.predict(x_test))\n",
        "score"
      ],
      "metadata": {
        "colab": {
          "base_uri": "https://localhost:8080/"
        },
        "id": "as50AdDZXzqh",
        "outputId": "40fb7e79-ba83-4e39-b5f9-92475f7489a2"
      },
      "execution_count": 111,
      "outputs": [
        {
          "output_type": "execute_result",
          "data": {
            "text/plain": [
              "0.8928274139844617"
            ]
          },
          "metadata": {},
          "execution_count": 111
        }
      ]
    },
    {
      "cell_type": "code",
      "source": [
        "import pickle\n",
        "with open('google_pnp.pkl', 'wb') as fh:\n",
        "  pickle.dump(pnp, fh)"
      ],
      "metadata": {
        "id": "l3NV9BV-X9s9"
      },
      "execution_count": 114,
      "outputs": []
    }
  ]
}