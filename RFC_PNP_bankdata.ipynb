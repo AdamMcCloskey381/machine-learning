{
  "nbformat": 4,
  "nbformat_minor": 0,
  "metadata": {
    "colab": {
      "name": "RFC_PNP_bankdata.ipynb",
      "provenance": [],
      "authorship_tag": "ABX9TyMqZcWTA4JIZR4G5GmdPE29",
      "include_colab_link": true
    },
    "kernelspec": {
      "name": "python3",
      "display_name": "Python 3"
    },
    "language_info": {
      "name": "python"
    }
  },
  "cells": [
    {
      "cell_type": "markdown",
      "metadata": {
        "id": "view-in-github",
        "colab_type": "text"
      },
      "source": [
        "<a href=\"https://colab.research.google.com/github/AdamMcCloskey381/machine-learning/blob/main/RFC_PNP_bankdata.ipynb\" target=\"_parent\"><img src=\"https://colab.research.google.com/assets/colab-badge.svg\" alt=\"Open In Colab\"/></a>"
      ]
    },
    {
      "cell_type": "code",
      "execution_count": 4,
      "metadata": {
        "id": "3NwaQalxh5IS"
      },
      "outputs": [],
      "source": [
        "import pandas as pd\n",
        "import numpy as np\n",
        "from sklearn.model_selection import train_test_split, GridSearchCV\n",
        "from sklearn.preprocessing import StandardScaler, LabelEncoder\n",
        "from sklearn.impute import SimpleImputer\n",
        "from sklearn.ensemble import RandomForestClassifier\n",
        "import matplotlib.pyplot as plt\n",
        "from sklearn.metrics import accuracy_score\n",
        "from sklearn.linear_model import Perceptron"
      ]
    },
    {
      "cell_type": "code",
      "source": [
        "\"\"\"loading the dataset\"\"\"\n",
        "\n",
        "df = pd.read_csv(r\"/content/bank-full.csv\", delimiter = \";\")\n",
        "df = df.replace(\"unknown\", np.nan)\n",
        "df.isnull().sum()/len(df)"
      ],
      "metadata": {
        "colab": {
          "base_uri": "https://localhost:8080/"
        },
        "id": "Kh86iSS4i1ij",
        "outputId": "aeb1f5b0-cba5-429f-a42c-4cdb4c674655"
      },
      "execution_count": 5,
      "outputs": [
        {
          "output_type": "execute_result",
          "data": {
            "text/plain": [
              "age          0.000000\n",
              "job          0.006370\n",
              "marital      0.000000\n",
              "education    0.041074\n",
              "default      0.000000\n",
              "balance      0.000000\n",
              "housing      0.000000\n",
              "loan         0.000000\n",
              "contact      0.287983\n",
              "day          0.000000\n",
              "month        0.000000\n",
              "duration     0.000000\n",
              "campaign     0.000000\n",
              "pdays        0.000000\n",
              "previous     0.000000\n",
              "poutcome     0.817478\n",
              "y            0.000000\n",
              "dtype: float64"
            ]
          },
          "metadata": {},
          "execution_count": 5
        }
      ]
    },
    {
      "cell_type": "code",
      "source": [
        "\"\"\"removing columns 'contact' and 'poutcome' due to high ratio of NaN\"\"\"\n",
        "\n",
        "df = df.drop(columns = ['contact', 'poutcome'])"
      ],
      "metadata": {
        "id": "KQdC3xBDjEDH"
      },
      "execution_count": 6,
      "outputs": []
    },
    {
      "cell_type": "code",
      "source": [
        "\"\"\"analysis of distribution of numerical variables\"\"\"\n",
        "\n",
        "figure, axis = plt.subplots(7, 1)\n",
        "\n",
        "figure.set_figheight(20)\n",
        "figure.set_figwidth(10)\n",
        "\n",
        "df_int = df.select_dtypes(include = \"int64\")\n",
        "df_int_columns = df_int.columns.tolist()\n",
        "\n",
        "for col in df_int_columns:\n",
        "  axis[df_int_columns.index(col)].hist(df[col])\n",
        "  axis[df_int_columns.index(col)].set_title(str(col))\n",
        "  axis[df_int_columns.index(col)].set_xticks([])  "
      ],
      "metadata": {
        "colab": {
          "base_uri": "https://localhost:8080/",
          "height": 1000
        },
        "id": "CTjbnqJcoU0C",
        "outputId": "f0ba66e9-b81e-4ed1-a788-a563b65f897e"
      },
      "execution_count": 7,
      "outputs": [
        {
          "output_type": "display_data",
          "data": {
            "text/plain": [
              "<Figure size 720x1440 with 7 Axes>"
            ],
            "image/png": "[encoded data removed]"
          },
          "metadata": {
            "needs_background": "light"
          }
        }
      ]
    },
    {
      "cell_type": "code",
      "source": [
        "\"\"\"closer inspection of distribution of numerical variables\"\"\"\n",
        "\n",
        "for col in ['balance', 'duration', 'campaign', 'pdays', 'previous']:\n",
        "  print(\"col name: {}\".format(col))\n",
        "  print(df[col].value_counts())"
      ],
      "metadata": {
        "colab": {
          "base_uri": "https://localhost:8080/"
        },
        "id": "TtN_nJCLvAVG",
        "outputId": "d6ce7d7a-da05-4baf-fa1e-4e1a3fdb82ea"
      },
      "execution_count": 8,
      "outputs": [
        {
          "output_type": "stream",
          "name": "stdout",
          "text": [
            "col name: balance\n",
            " 0        3514\n",
            " 1         195\n",
            " 2         156\n",
            " 4         139\n",
            " 3         134\n",
            "          ... \n",
            "-381         1\n",
            " 4617        1\n",
            " 20584       1\n",
            " 4358        1\n",
            " 16353       1\n",
            "Name: balance, Length: 7168, dtype: int64\n",
            "col name: duration\n",
            "124     188\n",
            "90      184\n",
            "89      177\n",
            "104     175\n",
            "122     175\n",
            "       ... \n",
            "1833      1\n",
            "1545      1\n",
            "1352      1\n",
            "1342      1\n",
            "1556      1\n",
            "Name: duration, Length: 1573, dtype: int64\n",
            "col name: campaign\n",
            "1     17544\n",
            "2     12505\n",
            "3      5521\n",
            "4      3522\n",
            "5      1764\n",
            "6      1291\n",
            "7       735\n",
            "8       540\n",
            "9       327\n",
            "10      266\n",
            "11      201\n",
            "12      155\n",
            "13      133\n",
            "14       93\n",
            "15       84\n",
            "16       79\n",
            "17       69\n",
            "18       51\n",
            "19       44\n",
            "20       43\n",
            "21       35\n",
            "22       23\n",
            "25       22\n",
            "23       22\n",
            "24       20\n",
            "29       16\n",
            "28       16\n",
            "26       13\n",
            "31       12\n",
            "27       10\n",
            "32        9\n",
            "30        8\n",
            "33        6\n",
            "34        5\n",
            "36        4\n",
            "35        4\n",
            "43        3\n",
            "38        3\n",
            "37        2\n",
            "50        2\n",
            "41        2\n",
            "46        1\n",
            "58        1\n",
            "55        1\n",
            "63        1\n",
            "51        1\n",
            "39        1\n",
            "44        1\n",
            "Name: campaign, dtype: int64\n",
            "col name: pdays\n",
            "-1      36954\n",
            " 182      167\n",
            " 92       147\n",
            " 91       126\n",
            " 183      126\n",
            "        ...  \n",
            " 449        1\n",
            " 452        1\n",
            " 648        1\n",
            " 595        1\n",
            " 530        1\n",
            "Name: pdays, Length: 559, dtype: int64\n",
            "col name: previous\n",
            "0      36954\n",
            "1       2772\n",
            "2       2106\n",
            "3       1142\n",
            "4        714\n",
            "5        459\n",
            "6        277\n",
            "7        205\n",
            "8        129\n",
            "9         92\n",
            "10        67\n",
            "11        65\n",
            "12        44\n",
            "13        38\n",
            "15        20\n",
            "14        19\n",
            "17        15\n",
            "16        13\n",
            "19        11\n",
            "20         8\n",
            "23         8\n",
            "18         6\n",
            "22         6\n",
            "24         5\n",
            "27         5\n",
            "21         4\n",
            "29         4\n",
            "25         4\n",
            "30         3\n",
            "38         2\n",
            "37         2\n",
            "26         2\n",
            "28         2\n",
            "51         1\n",
            "275        1\n",
            "58         1\n",
            "32         1\n",
            "40         1\n",
            "55         1\n",
            "35         1\n",
            "41         1\n",
            "Name: previous, dtype: int64\n"
          ]
        }
      ]
    },
    {
      "cell_type": "markdown",
      "source": [
        "none of the numerical variables were removed"
      ],
      "metadata": {
        "id": "XaefxZ8wwis4"
      }
    },
    {
      "cell_type": "code",
      "source": [
        "\"\"\"data imputation\"\"\"\n",
        "\n",
        "imputer = SimpleImputer(missing_values = np.nan, strategy = \"most_frequent\")\n",
        "\n",
        "for col in ['job', 'education']:\n",
        "  df[[col]] = imputer.fit_transform(df[[col]])"
      ],
      "metadata": {
        "id": "S6n_5UpkoPyn"
      },
      "execution_count": 9,
      "outputs": []
    },
    {
      "cell_type": "code",
      "source": [
        "\"\"\"checking and modyfing data types within the data frame\"\"\"\n",
        "\n",
        "df_cat = df.select_dtypes(include = \"object\")\n",
        "\n",
        "for col in df_int.columns:\n",
        "  df[col] = df[col].astype(\"float64\")\n",
        "\n",
        "for col in df_cat.columns:\n",
        "  df[col] = df[col].astype(\"category\")"
      ],
      "metadata": {
        "id": "IJNyLXcxkmxp"
      },
      "execution_count": 10,
      "outputs": []
    },
    {
      "cell_type": "code",
      "source": [
        "\"\"\"data scaling\"\"\"\n",
        "\n",
        "scaler = StandardScaler()\n",
        "for col in df_int.columns:\n",
        "  df[[col]] = scaler.fit_transform(df[[col]])"
      ],
      "metadata": {
        "id": "i8pitzY4kXPi"
      },
      "execution_count": 11,
      "outputs": []
    },
    {
      "cell_type": "code",
      "source": [
        "\"\"\"data encoding\"\"\"\n",
        "\n",
        "df = pd.get_dummies(df, columns = df_cat.columns.tolist(), drop_first = True)"
      ],
      "metadata": {
        "id": "0_kAL5Gil8Fw"
      },
      "execution_count": 12,
      "outputs": []
    },
    {
      "cell_type": "code",
      "source": [
        "\"\"\"splitting the data into x, y and train, test subsets\"\"\"\n",
        "\n",
        "x = df.loc[:, df.columns !=\"y_yes\"]\n",
        "y = df.loc[:, df.columns == \"y_yes\"]\n",
        "\n",
        "x_train, x_test, y_train, y_test = train_test_split(x, y, train_size = 0.75, random_state = 123)"
      ],
      "metadata": {
        "id": "b3yEGgi_x_8U"
      },
      "execution_count": 13,
      "outputs": []
    },
    {
      "cell_type": "code",
      "source": [
        "\"\"\"creating and training the RandomForestClassifier model with default hyperparameters\"\"\"\n",
        "\n",
        "rfc = RandomForestClassifier()\n",
        "y_train = np.ravel(y_train)\n",
        "rfc.fit(x_train, y_train)"
      ],
      "metadata": {
        "colab": {
          "base_uri": "https://localhost:8080/"
        },
        "id": "TwmrTysh0Kze",
        "outputId": "4f741db4-e602-4edd-d50f-1d335957e5b8"
      },
      "execution_count": 14,
      "outputs": [
        {
          "output_type": "execute_result",
          "data": {
            "text/plain": [
              "RandomForestClassifier()"
            ]
          },
          "metadata": {},
          "execution_count": 14
        }
      ]
    },
    {
      "cell_type": "code",
      "source": [
        "\"\"\"evaluating the accuracy of the default RandomForestClassifier model\"\"\"\n",
        "score = accuracy_score(y_test, rfc.predict(x_test))\n",
        "score"
      ],
      "metadata": {
        "colab": {
          "base_uri": "https://localhost:8080/"
        },
        "id": "wZe_xq2x0uAt",
        "outputId": "fdc4f6ab-df68-420c-a23e-38563f1bf1ce"
      },
      "execution_count": 15,
      "outputs": [
        {
          "output_type": "execute_result",
          "data": {
            "text/plain": [
              "0.8994072370167212"
            ]
          },
          "metadata": {},
          "execution_count": 15
        }
      ]
    },
    {
      "cell_type": "code",
      "source": [
        "\"\"\"tuning the hyperparameters of the model using the Grid Search method\"\"\"\n",
        "\n",
        "param_grid=[{\"n_estimators\": list(range(101))[::10][1:],\n",
        "             \"min_samples_split\": list(range(10))[::2][1:]\n",
        "             }] \n",
        "\n",
        "grid_search = GridSearchCV(RandomForestClassifier(), param_grid, cv = 10, verbose = True, n_jobs = -1)"
      ],
      "metadata": {
        "id": "yVXjWzQE1FyD"
      },
      "execution_count": 16,
      "outputs": []
    },
    {
      "cell_type": "code",
      "source": [
        "grid_search.fit(x_train, y_train)"
      ],
      "metadata": {
        "colab": {
          "base_uri": "https://localhost:8080/"
        },
        "id": "N6BekQ9d2V7U",
        "outputId": "95df7a46-5cf1-46ac-f4c2-c0779b8ecdac"
      },
      "execution_count": 17,
      "outputs": [
        {
          "output_type": "stream",
          "name": "stdout",
          "text": [
            "Fitting 10 folds for each of 40 candidates, totalling 400 fits\n"
          ]
        },
        {
          "output_type": "execute_result",
          "data": {
            "text/plain": [
              "GridSearchCV(cv=10, estimator=RandomForestClassifier(), n_jobs=-1,\n",
              "             param_grid=[{'min_samples_split': [2, 4, 6, 8],\n",
              "                          'n_estimators': [10, 20, 30, 40, 50, 60, 70, 80, 90,\n",
              "                                           100]}],\n",
              "             verbose=True)"
            ]
          },
          "metadata": {},
          "execution_count": 17
        }
      ]
    },
    {
      "cell_type": "code",
      "source": [
        "grid_search.best_params_"
      ],
      "metadata": {
        "colab": {
          "base_uri": "https://localhost:8080/"
        },
        "id": "aXVwfnlT3RHi",
        "outputId": "9b015f89-7254-4f1b-badb-1a4086aa1df9"
      },
      "execution_count": 18,
      "outputs": [
        {
          "output_type": "execute_result",
          "data": {
            "text/plain": [
              "{'min_samples_split': 6, 'n_estimators': 40}"
            ]
          },
          "metadata": {},
          "execution_count": 18
        }
      ]
    },
    {
      "cell_type": "code",
      "source": [
        "\"\"\"creating and training the RandomForestClassifier model with tuned hyperparameters\"\"\"\n",
        "\n",
        "rfc_tuned = RandomForestClassifier(min_samples_split = grid_search.best_params_[\"min_samples_split\"], \n",
        "                                   n_estimators = grid_search.best_params_[\"n_estimators\"]) \n",
        "rfc_tuned.fit(x_train, y_train)"
      ],
      "metadata": {
        "colab": {
          "base_uri": "https://localhost:8080/"
        },
        "id": "R2fZ9R8ofcLI",
        "outputId": "edd00394-bd42-4c1b-8715-1bfb27d62f20"
      },
      "execution_count": 19,
      "outputs": [
        {
          "output_type": "execute_result",
          "data": {
            "text/plain": [
              "RandomForestClassifier(min_samples_split=6, n_estimators=40)"
            ]
          },
          "metadata": {},
          "execution_count": 19
        }
      ]
    },
    {
      "cell_type": "code",
      "source": [
        "\"\"\"evaluating the accuracy of the tuned RandomForestClassifier model\"\"\"\n",
        "\n",
        "score = accuracy_score(y_test, rfc_tuned.predict(x_test))\n",
        "score"
      ],
      "metadata": {
        "colab": {
          "base_uri": "https://localhost:8080/"
        },
        "id": "3gmWFArdUPp9",
        "outputId": "37a7322a-b37f-4010-8153-bfa2bcddbdcb"
      },
      "execution_count": 36,
      "outputs": [
        {
          "output_type": "execute_result",
          "data": {
            "text/plain": [
              "0.900026541626117"
            ]
          },
          "metadata": {},
          "execution_count": 36
        }
      ]
    },
    {
      "cell_type": "code",
      "source": [
        "\"\"\"creating and training the Perceptron model with default hyperparameters\"\"\"\n",
        "\n",
        "pnp = Perceptron()\n",
        "pnp.fit(x_train, y_train)"
      ],
      "metadata": {
        "colab": {
          "base_uri": "https://localhost:8080/"
        },
        "id": "LKaPmT_ee0qh",
        "outputId": "96e740da-f610-4696-f252-cc5b17e3c44f"
      },
      "execution_count": 20,
      "outputs": [
        {
          "output_type": "execute_result",
          "data": {
            "text/plain": [
              "Perceptron()"
            ]
          },
          "metadata": {},
          "execution_count": 20
        }
      ]
    },
    {
      "cell_type": "code",
      "source": [
        "\"\"\"evaluating the accuracy of the default Perceptron model\"\"\"\n",
        "\n",
        "score = accuracy_score(y_test, pnp.predict(x_test))\n",
        "score"
      ],
      "metadata": {
        "colab": {
          "base_uri": "https://localhost:8080/"
        },
        "id": "buc8AdGafOI8",
        "outputId": "eed347eb-59ce-4722-a2e6-6f80e053ed39"
      },
      "execution_count": 22,
      "outputs": [
        {
          "output_type": "execute_result",
          "data": {
            "text/plain": [
              "0.8771122710784748"
            ]
          },
          "metadata": {},
          "execution_count": 22
        }
      ]
    },
    {
      "cell_type": "code",
      "source": [
        "param_grid_pnp = [{\n",
        "    \"max_iter\": list(range(1001))[::100][1:],\n",
        "    \"penalty\": [\"l1\", \"l2\"],\n",
        "    \"tol\": [1e-2, 1e-3, 1e-4, 1e-5]\n",
        "}]"
      ],
      "metadata": {
        "id": "W44EeEomNfO0"
      },
      "execution_count": 23,
      "outputs": []
    },
    {
      "cell_type": "code",
      "source": [
        "grid_search_pnp = GridSearchCV(Perceptron(), param_grid_pnp, cv = 10, verbose = True, n_jobs = -1)"
      ],
      "metadata": {
        "id": "dJpWgMHvOJrf"
      },
      "execution_count": 26,
      "outputs": []
    },
    {
      "cell_type": "code",
      "source": [
        "grid_search_pnp.fit(x_train, y_train)"
      ],
      "metadata": {
        "colab": {
          "base_uri": "https://localhost:8080/"
        },
        "id": "Iuw6lGRGOKGB",
        "outputId": "4adbfff4-ffdd-40e1-928e-c7098112209e"
      },
      "execution_count": 30,
      "outputs": [
        {
          "output_type": "stream",
          "name": "stdout",
          "text": [
            "Fitting 10 folds for each of 80 candidates, totalling 800 fits\n"
          ]
        },
        {
          "output_type": "execute_result",
          "data": {
            "text/plain": [
              "GridSearchCV(cv=10, estimator=Perceptron(), n_jobs=-1,\n",
              "             param_grid=[{'max_iter': [100, 200, 300, 400, 500, 600, 700, 800,\n",
              "                                       900, 1000],\n",
              "                          'penalty': ['l1', 'l2'],\n",
              "                          'tol': [0.01, 0.001, 0.0001, 1e-05]}],\n",
              "             verbose=True)"
            ]
          },
          "metadata": {},
          "execution_count": 30
        }
      ]
    },
    {
      "cell_type": "code",
      "source": [
        "grid_search_pnp.best_params_"
      ],
      "metadata": {
        "colab": {
          "base_uri": "https://localhost:8080/"
        },
        "id": "WBud0vGRRnlr",
        "outputId": "640e2d4e-5ee7-45ab-c681-f7776b701e6d"
      },
      "execution_count": 31,
      "outputs": [
        {
          "output_type": "execute_result",
          "data": {
            "text/plain": [
              "{'max_iter': 100, 'penalty': 'l2', 'tol': 0.001}"
            ]
          },
          "metadata": {},
          "execution_count": 31
        }
      ]
    },
    {
      "cell_type": "code",
      "source": [
        "\"\"\"creating and training the Perceptron model with tuned hyperparameters\"\"\"\n",
        "\n",
        "pnp_tuned = Perceptron(max_iter = grid_search_pnp.best_params_[\"max_iter\"],\n",
        "                       penalty = grid_search_pnp.best_params_[\"penalty\"],\n",
        "                       tol=grid_search_pnp.best_params_[\"tol\"])\n",
        "pnp_tuned.fit(x_train, y_train)"
      ],
      "metadata": {
        "colab": {
          "base_uri": "https://localhost:8080/"
        },
        "id": "4AnSqfnPTVcx",
        "outputId": "6e17987b-286c-4434-9266-a9eb6d845556"
      },
      "execution_count": 33,
      "outputs": [
        {
          "output_type": "execute_result",
          "data": {
            "text/plain": [
              "Perceptron(max_iter=100, penalty='l2')"
            ]
          },
          "metadata": {},
          "execution_count": 33
        }
      ]
    },
    {
      "cell_type": "code",
      "source": [
        "\"\"\"evaluating the accuracy of the tuned Perceptron model\"\"\"\n",
        "\n",
        "score = accuracy_score(y_test, pnp_tuned.predict(x_test))\n",
        "score"
      ],
      "metadata": {
        "colab": {
          "base_uri": "https://localhost:8080/"
        },
        "id": "KN-Oi9CwTuH5",
        "outputId": "c1d8780d-b956-433f-da37-23ecca157527"
      },
      "execution_count": 34,
      "outputs": [
        {
          "output_type": "execute_result",
          "data": {
            "text/plain": [
              "0.8878173936123153"
            ]
          },
          "metadata": {},
          "execution_count": 34
        }
      ]
    }
  ]
}